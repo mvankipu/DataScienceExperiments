{
 "cells": [
  {
   "cell_type": "markdown",
   "metadata": {},
   "source": [
    "# Mithra Vankipuram's Learning Experiments"
   ]
  },
  {
   "cell_type": "markdown",
   "metadata": {},
   "source": [
    "Hello there! Welcome to my virtual laboratory and demo showcase for my various learning experiments. \n",
    "\n",
    "I am a data-driven story teller. I research share stories that are based on insights derived from analysis of quantitative and qualitative data. The skills I demostrate are used in a number of fields - from journalism to mixed-methods research to business analytics.\n",
    "\n",
    "I am also a HUGE fan of Jupyter Notebooks. Jupyter Notebooks are a powerful programming and documentation tool for data science. Why not use the notebook for all data-driven story telling? \n",
    "\n",
    "All the code on this page is available on my GitHub, which you can find here: \n",
    "\n",
    "### How to use this pa\n",
    "### Algorithms and Data Structures\n",
    "\n",
    "### Data Science Projects"
   ]
  },
  {
   "cell_type": "code",
   "execution_count": 1,
   "metadata": {},
   "outputs": [
    {
     "name": "stdout",
     "output_type": "stream",
     "text": [
      "Hello World! #computergraphics #nerd\n"
     ]
    }
   ],
   "source": [
    "print(\"Hello World! #computergraphics #nerd\")"
   ]
  },
  {
   "cell_type": "markdown",
   "metadata": {},
   "source": []
  }
 ],
 "metadata": {
  "kernelspec": {
   "display_name": "Python 3",
   "language": "python",
   "name": "python3"
  },
  "language_info": {
   "codemirror_mode": {
    "name": "ipython",
    "version": 3
   },
   "file_extension": ".py",
   "mimetype": "text/x-python",
   "name": "python",
   "nbconvert_exporter": "python",
   "pygments_lexer": "ipython3",
   "version": "3.6.9"
  }
 },
 "nbformat": 4,
 "nbformat_minor": 4
}
